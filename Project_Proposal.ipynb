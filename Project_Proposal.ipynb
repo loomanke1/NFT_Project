{
 "cells": [
  {
   "cell_type": "markdown",
   "metadata": {},
   "source": [
    "# Project Proposal\n",
    "## NFT Time Series Forecasting"
   ]
  },
  {
   "cell_type": "markdown",
   "metadata": {},
   "source": [
    "### 1. Research Goal\n",
    "Blockchain is a decentralized and secure digital ledger of all transactions across a peer-to-peer network, but a lack of convenient data visualization prevents people from easily understanding what is going underneath the digital \"hood.\" \n",
    "\n",
    "In this project, I will develop and evaluate the performance and predictive power of a model trained and tested on data collected from NFT transactions in Etherscan.\n",
    "\n",
    "Once a good fit is found, I will use this model to predict the monetary value of an NFT in the Ethereum network. \n",
    "\n",
    "A model like this would be very valuable for an investor who could make use of the information provided on a daily basis. "
   ]
  },
  {
   "cell_type": "markdown",
   "metadata": {},
   "source": [
    "### 2. Data Source \n",
    "There are two sets of data that will be utilized:\n",
    "   1. Transaction data (features include NFT project name/category, price sold for, date of transaction, seller, buyer, and fee)\n",
    "   2. Sentiment Analysis Data on the NFT project or the particular NFT from Twitter (optional)\n"
   ]
  },
  {
   "cell_type": "markdown",
   "metadata": {},
   "source": [
    "### 3. Plan to Obtain Data\n",
    "Transaction data will be collected/scraped from Etherscan for each NFT projects. Etherscan offers a free tier API subscription that allows for 100,000 calls per day. Should this not be sufficient, the data can be scraped. For example, an NFT project called VeeFriends can be found from here: https://etherscan.io/token/0xa3aee8bce55beea1951ef834b99f3ac60d1abeeb. \n",
    "With the contextual data of the project itself, the timeseries data of each type of NFT will be collected and cleaned.\n",
    "For auxiliary data, I will try to obtain sentiment analysis data from Twitter API should time allow. "
   ]
  },
  {
   "cell_type": "markdown",
   "metadata": {},
   "source": [
    "### 4. The methods that you aim to employ\n",
    "A data wrangling component:\n",
    "  1. If the Etherscan API is not sufficient, transaction data from Etherscan will be scraped using BeautifulSoup, and cleaned by the specific NFT project name/category. I will aim to pick the top 10 NFT projects with the most transactions. \n",
    "  2. For the top 10 NFT projects, I will collect tweets from the Twitter API and clean the data to only include relevant tweets.\n",
    " \n",
    "Data Visualizations\n",
    "  1. Our main visualization will be the time series prediction for each NFT projects and corresponding categories.\n",
    "  2. I will also have a joined graph of time series and how public sentiment (on the NFT project or a particular NFT) is related to a particular price change.\n",
    "  3. (Optional) I will also try to visualize transactions in the ethereum network using a graph database to potentially spot major players in the NFT world.\n",
    "  \n",
    "Machine Learning Component:\n",
    "  1. For time series prediction, I will compare ARIMA, Exponential Smoothing, LSTM, and GRU models.\n",
    "  2. For sentiment analysis, I will try a type of RNN: LSTM."
   ]
  },
  {
   "cell_type": "markdown",
   "metadata": {},
   "source": [
    "### 5. Criteria of Success\n",
    "A successful project will have a reproducible platform/process to collect data from Etherscan to advocate the power of public data in peer-to-peer blockchain networks. In addition, I will need to have a model that can help traders spot and gauge a good price for a digital asset. Integrating Sentiment Analysis would be helpful but optional for the success of the project."
   ]
  },
  {
   "cell_type": "markdown",
   "metadata": {},
   "source": [
    "### 6. Works Cited \n",
    "Richardson, L. (2007). Beautiful soup documentation. April.\n",
    "\n",
    "\"Etherscan,\" https://etherscan.io/apis. "
   ]
  }
 ],
 "metadata": {
  "kernelspec": {
   "display_name": "Python 3",
   "language": "python",
   "name": "python3"
  },
  "language_info": {
   "codemirror_mode": {
    "name": "ipython",
    "version": 3
   },
   "file_extension": ".py",
   "mimetype": "text/x-python",
   "name": "python",
   "nbconvert_exporter": "python",
   "pygments_lexer": "ipython3",
   "version": "3.7.1"
  }
 },
 "nbformat": 4,
 "nbformat_minor": 2
}
