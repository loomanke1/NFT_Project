{
 "cells": [
  {
   "cell_type": "markdown",
   "id": "104b16aa",
   "metadata": {},
   "source": [
    "## Etherscan Data Merging"
   ]
  },
  {
   "cell_type": "code",
   "execution_count": 138,
   "id": "66a749bd",
   "metadata": {},
   "outputs": [],
   "source": [
    "# Import packages \n",
    "import json\n",
    "import pandas as pd\n",
    "from tqdm import tqdm\n",
    "from IPython.display import display\n",
    "import requests\n",
    "import time\n",
    "from dotenv import dotenv_values\n",
    "config = dotenv_values(\".env\")\n",
    "APIKEY = config[\"APIKEY\"]"
   ]
  },
  {
   "cell_type": "markdown",
   "id": "18f60c71",
   "metadata": {
    "heading_collapsed": true
   },
   "source": [
    "### Utils"
   ]
  },
  {
   "cell_type": "code",
   "execution_count": 21,
   "id": "25a36b30",
   "metadata": {
    "hidden": true
   },
   "outputs": [],
   "source": [
    "# Now that we have a list of all transactions \n",
    "# we will start looking at \"from\" and \"to\" tokens for each transactions(normal and internal). \n",
    "\n",
    "# Normal transaction by address \n",
    "def getNormalTranTxlist(address,APIKEY):\n",
    "    resp = requests.get(\"http://api.etherscan.io\"+\n",
    "                    \"/api?\"+\n",
    "                    \"module=account&\"+\n",
    "                    \"action=txlist&\"+\n",
    "                    \"address=\"+ address+ \"&\"+\n",
    "                    \"startblock=0&\"+\n",
    "                    \"endblock=99999999&\"+\n",
    "                    \"sort=asc&\"+\n",
    "                    \"apikey=\"+APIKEY).json()\n",
    "    return resp\n",
    "\n",
    "# Internal Transaction by address \n",
    "def getInternalTranTxlist(address,APIKEY):\n",
    "    resp = requests.get(\"http://api.etherscan.io\"+\n",
    "                    \"/api?\"+\n",
    "                    \"module=account&\"+\n",
    "                    \"action=txlistinternal\"+\n",
    "                    \"&address=\"+ address+ \"&\"+\n",
    "                    \"startblock=0&\"+\n",
    "                    \"endblock=99999999&\"+\n",
    "                    \"sort=asc&\"+\n",
    "                    \"apikey=\"+APIKEY).json()\n",
    "    return resp\n",
    "\n",
    "# All transactions by address \n",
    "def getTranTokennfttx(address,APIKEY):\n",
    "    resp = requests.get(\n",
    "                    \"http://api.etherscan.io\" +\n",
    "                    \"/api?\"+ \n",
    "                    \"module=account&\"+\n",
    "                    \"action=tokennfttx&\"+\n",
    "                    \"&address=\"+ address+ \"&\"+\n",
    "                    \"page=1&\"+\n",
    "                    \"offset=10000&\"+\n",
    "                    \"startblock=0&\"+\n",
    "                    \"endblock=99999999&\"+\n",
    "                    \"sort=asc&\"+\n",
    "                    \"apikey=\"+APIKEY).json()\n",
    "    return resp"
   ]
  },
  {
   "cell_type": "code",
   "execution_count": 49,
   "id": "11d628b3",
   "metadata": {
    "hidden": true
   },
   "outputs": [],
   "source": [
    "# API Calls\n",
    "'''\n",
    "Transactions From addresses \n",
    " Function can be one of three:\n",
    "     1. internal -> getInternalTranTxlist\n",
    "     2. norm     -> getNormalTranTxlist\n",
    "     3. nfttx    -> getTranTokennfttx\n",
    "'''\n",
    "def getTxList(addresses,APIKEY,func):\n",
    "    start = time.time()\n",
    "    APIKEY = APIKEY\n",
    "    succesful_dict              = []\n",
    "    unsuccessful_dict = []\n",
    "    print(\"Working on \", func)\n",
    "\n",
    "    for i in tqdm(addresses):\n",
    "        nest_start = time.time()\n",
    "        if i != \"0x0000000000000000000000000000000000000000\":\n",
    "            # Choose a function\n",
    "            if   func == \"internal\": \n",
    "                resp = getInternalTranTxlist(i,APIKEY)\n",
    "            elif func == \"norm\":\n",
    "                resp = getNormalTranTxlist(i,APIKEY)\n",
    "            elif func == \"nfttx\": \n",
    "                resp = getTranTokennfttx(i,APIKEY)\n",
    "\n",
    "            # check if status pases\n",
    "            if resp['status'] != '1':\n",
    "#                 print(\"Address: \",i,\"\\nMessage:\" ,resp['message'])\n",
    "                unsuccessful_dict = unsuccessful_dict + [{\"address\": i,\n",
    "                                                                 \"message\": resp['message']}]\n",
    "            else:\n",
    "                # Transactions\n",
    "                succesful_dict = succesful_dict+[{\"Address\": i, \"data\": resp}]\n",
    "            \n",
    "        # Set filler timer to avoid reaching API calls maxlimit\n",
    "        nest_end = time.time()\n",
    "        fill = 0.200 - (nest_end-nest_start)\n",
    "        if fill > 0:\n",
    "            time.sleep(fill+0.05)\n",
    "\n",
    "    end = time.time()\n",
    "    print(\"Total Time Spent:\", end - start)\n",
    "\n",
    "    return succesful_dict, unsuccessful_dict\n",
    "\n"
   ]
  },
  {
   "cell_type": "code",
   "execution_count": 73,
   "id": "55db1eed",
   "metadata": {
    "hidden": true
   },
   "outputs": [],
   "source": [
    "# Check Length\n",
    "def findNOTOK(data):\n",
    "    matched = []\n",
    "    for i in data:\n",
    "        if i['message'] == 'NOTOK':\n",
    "            matched += [i]\n",
    "    return matched\n",
    "\n",
    "def checkLength(nfttx_dict,unsuccessful_nfttx_dict,internal_dict,unsuccessful_internal_dict,norm_dict,unsuccessful_norm_dict):\n",
    "# There are to different types of missing data. Either there simply isn't any transaction, or timeout.\n",
    "    print(\"length of nfttx_dict:                          \", len(nfttx_dict))\n",
    "    print(\"length of unsuccessful_nfttx_dict/LengthNOTOK: \", len(unsuccessful_nfttx_dict),\n",
    "                                                            \"/\",\n",
    "                                                            len(findNOTOK(unsuccessful_nfttx_dict)))\n",
    "\n",
    "    print(\"length of internal_dict:                       \", len(internal_dict))\n",
    "    print(\"length of unsuccessful_internal_dict/NOTOK:    \", len(unsuccessful_internal_dict),\n",
    "                                                            \"/\",\n",
    "                                                            len(findNOTOK(unsuccessful_internal_dict)))\n",
    "\n",
    "    print(\"length of norm_dict:                           \", len(norm_dict))\n",
    "    print(\"length of unsuccessful_norm_dict/NOTOK:        \", len(unsuccessful_norm_dict),\n",
    "                                                             \"/\",\n",
    "                                                             len(findNOTOK(unsuccessful_norm_dict)))"
   ]
  },
  {
   "cell_type": "code",
   "execution_count": 117,
   "id": "15d27002",
   "metadata": {
    "hidden": true
   },
   "outputs": [],
   "source": [
    "def convert_to_df(final_dict,func):\n",
    "    # Loop through entire from_internal_dict_old to pull values\n",
    "    # from address, and api call status \n",
    "    # func can be \"nfttx,\" \"txlist,\" \"txlistinternal\"\n",
    "    print(\"Working on:\",func)\n",
    "    result = []\n",
    "    # converted_df = pd.DataFrame()\n",
    "    unsuccesful_df = []\n",
    "    j = 0\n",
    "    for i in tqdm(final_dict):\n",
    "        if i['data']['status'] == '1':\n",
    "            out = pd.DataFrame(i['data']['result'])\n",
    "            out[\"address\"] = i['Address']\n",
    "            if func   == \"nfttx\":\n",
    "                out[\"apicall\"] = \"tokennfttx\"\n",
    "\n",
    "            elif func == \"txlist\":\n",
    "                out[\"apicall\"] = \"txlist\"\n",
    "\n",
    "            elif func == \"txlistinternal\":\n",
    "                out[\"apicall\"] = \"txlistinternal\"\n",
    "            \n",
    "            # changed to concat instead of append\n",
    "            # converted_df = converted_df.append(out)\n",
    "            result.append(out)\n",
    "\n",
    "        else:\n",
    "            print(j)\n",
    "            unsuccesful_df = unsuccesful_df +[i]\n",
    "            j+=1\n",
    "    return pd.concat(result), unsuccesful_df"
   ]
  },
  {
   "cell_type": "markdown",
   "id": "40c05519",
   "metadata": {
    "hidden": true
   },
   "source": [
    "##### Concat vs. Append"
   ]
  },
  {
   "cell_type": "code",
   "execution_count": 103,
   "id": "440f1c92",
   "metadata": {
    "hidden": true
   },
   "outputs": [],
   "source": [
    "import numpy as np\n",
    "df = pd.DataFrame(np.random.randn(100000,20))\n",
    "df['B'] = 'foo'\n",
    "df['C'] = pd.Timestamp('20130101')"
   ]
  },
  {
   "cell_type": "code",
   "execution_count": 104,
   "id": "b3c41c8e",
   "metadata": {
    "hidden": true
   },
   "outputs": [],
   "source": [
    "def f1():\n",
    "    result = df\n",
    "    for i in range(9):\n",
    "         result = result.append(df)\n",
    "    return result"
   ]
  },
  {
   "cell_type": "code",
   "execution_count": 105,
   "id": "d7c23a91",
   "metadata": {
    "hidden": true
   },
   "outputs": [],
   "source": [
    "def f2():\n",
    "    result = []\n",
    "    for i in range(10):\n",
    "        result.append(df)\n",
    "    return pd.concat(result)\n"
   ]
  },
  {
   "cell_type": "code",
   "execution_count": 106,
   "id": "ec115431",
   "metadata": {
    "hidden": true
   },
   "outputs": [
    {
     "data": {
      "text/plain": [
       "True"
      ]
     },
     "execution_count": 106,
     "metadata": {},
     "output_type": "execute_result"
    }
   ],
   "source": [
    "f1().equals(f2())"
   ]
  },
  {
   "cell_type": "code",
   "execution_count": 107,
   "id": "b4d6df9c",
   "metadata": {
    "hidden": true
   },
   "outputs": [
    {
     "name": "stdout",
     "output_type": "stream",
     "text": [
      "681 ms ± 8.36 ms per loop (mean ± std. dev. of 7 runs, 1 loop each)\n"
     ]
    }
   ],
   "source": [
    "%timeit f1()"
   ]
  },
  {
   "cell_type": "code",
   "execution_count": 108,
   "id": "aff0d11e",
   "metadata": {
    "hidden": true
   },
   "outputs": [
    {
     "name": "stdout",
     "output_type": "stream",
     "text": [
      "101 ms ± 438 µs per loop (mean ± std. dev. of 7 runs, 10 loops each)\n"
     ]
    }
   ],
   "source": [
    "%timeit f2()"
   ]
  },
  {
   "cell_type": "markdown",
   "id": "cc8003d2",
   "metadata": {
    "heading_collapsed": true
   },
   "source": [
    "### Load Data"
   ]
  },
  {
   "cell_type": "code",
   "execution_count": 2,
   "id": "b7a28bda",
   "metadata": {
    "hidden": true
   },
   "outputs": [],
   "source": [
    "# Opening JSON file\n",
    "f = open('../DATA/bigdata/nfttx_dict.json')\n",
    "# returns JSON object as\n",
    "# a dictionary\n",
    "nfttx_dict = json.load(f)\n",
    "f.close()\n",
    "\n",
    "# Opening JSON file\n",
    "f = open('../DATA/bigdata/internal_dict.json')\n",
    "# returns JSON object as\n",
    "# a dictionary\n",
    "internal_dict = json.load(f)\n",
    "f.close()\n",
    "\n",
    "# Opening JSON file\n",
    "f = open('../DATA/bigdata/norm_dict.json')\n",
    "# returns JSON object as\n",
    "# a dictionary\n",
    "norm_dict = json.load(f)\n",
    "f.close()\n",
    "\n"
   ]
  },
  {
   "cell_type": "code",
   "execution_count": 3,
   "id": "07fb2684",
   "metadata": {
    "hidden": true
   },
   "outputs": [],
   "source": [
    "# Opening JSON file\n",
    "f = open('../DATA/bigdata/unsuccessful_nfttx_dict.json')\n",
    "# returns JSON object as\n",
    "# a dictionary\n",
    "unsuccessful_nfttx_dict = json.load(f)\n",
    "f.close()\n",
    "\n",
    "# Opening JSON file\n",
    "f = open('../DATA/bigdata/unsuccessful_internal_dict.json')\n",
    "# returns JSON object as\n",
    "# a dictionary\n",
    "unsuccessful_internal_dict = json.load(f)\n",
    "f.close()\n",
    "\n",
    "# Opening JSON file\n",
    "f = open('../DATA/bigdata/unsuccessful_norm_dict.json')\n",
    "# returns JSON object as\n",
    "# a dictionary\n",
    "unsuccessful_norm_dict = json.load(f)\n",
    "f.close()"
   ]
  },
  {
   "cell_type": "markdown",
   "id": "198462e3",
   "metadata": {
    "heading_collapsed": true
   },
   "source": [
    "### Explore Missing Data "
   ]
  },
  {
   "cell_type": "code",
   "execution_count": 74,
   "id": "600cdb11",
   "metadata": {
    "hidden": true
   },
   "outputs": [
    {
     "name": "stdout",
     "output_type": "stream",
     "text": [
      "length of nfttx_dict:                           7198\n",
      "length of unsuccessful_nfttx_dict/LengthNOTOK:  75 / 75\n",
      "length of internal_dict:                        5398\n",
      "length of unsuccessful_internal_dict/NOTOK:     1875 / 91\n",
      "length of norm_dict:                            6993\n",
      "length of unsuccessful_norm_dict/NOTOK:         280 / 16\n"
     ]
    }
   ],
   "source": [
    "checkLength(nfttx_dict,\n",
    "            unsuccessful_nfttx_dict,\n",
    "            internal_dict,\n",
    "            unsuccessful_internal_dict,\n",
    "            norm_dict,\n",
    "            unsuccessful_norm_dict)"
   ]
  },
  {
   "cell_type": "code",
   "execution_count": 80,
   "id": "af378267",
   "metadata": {
    "hidden": true,
    "scrolled": true
   },
   "outputs": [
    {
     "name": "stdout",
     "output_type": "stream",
     "text": [
      "Working on  internal\n"
     ]
    },
    {
     "name": "stderr",
     "output_type": "stream",
     "text": [
      "100%|███████████████████████████████████████████| 75/75 [00:22<00:00,  3.40it/s]\n"
     ]
    },
    {
     "name": "stdout",
     "output_type": "stream",
     "text": [
      "Total Time Spent: 22.04499626159668\n",
      "Working on  nfttx\n"
     ]
    },
    {
     "name": "stderr",
     "output_type": "stream",
     "text": [
      "100%|███████████████████████████████████████████| 91/91 [00:26<00:00,  3.44it/s]\n"
     ]
    },
    {
     "name": "stdout",
     "output_type": "stream",
     "text": [
      "Total Time Spent: 26.427623987197876\n",
      "Working on  norm\n"
     ]
    },
    {
     "name": "stderr",
     "output_type": "stream",
     "text": [
      "100%|███████████████████████████████████████████| 16/16 [00:04<00:00,  3.89it/s]"
     ]
    },
    {
     "name": "stdout",
     "output_type": "stream",
     "text": [
      "Total Time Spent: 4.11700701713562\n"
     ]
    },
    {
     "name": "stderr",
     "output_type": "stream",
     "text": [
      "\n"
     ]
    }
   ],
   "source": [
    "# Rerun Addresses that recieved NOTOK\n",
    "nfttx_dict_leftover, unsc_nfttx_dict_leftover = getTxList([d['address'] for d in findNOTOK(unsuccessful_nfttx_dict)],\n",
    "                                      APIKEY,\n",
    "                                      \"internal\")\n",
    "internal_dict_leftover,unsc_internal_dict_leftover = getTxList([d['address'] for d in findNOTOK(unsuccessful_internal_dict)],\n",
    "                                      APIKEY,\n",
    "                                      \"nfttx\")\n",
    "norm_dict_leftover,unsc_norm_dict_leftover = getTxList([d['address'] for d in findNOTOK(unsuccessful_norm_dict)],\n",
    "                                      APIKEY,\n",
    "                                      \"norm\")\n",
    "final_nfttx_dict    = nfttx_dict + nfttx_dict_leftover\n",
    "final_internal_dict = internal_dict + internal_dict_leftover\n",
    "final_norm_dict     = norm_dict + norm_dict_leftover"
   ]
  },
  {
   "cell_type": "markdown",
   "id": "61f3d925",
   "metadata": {
    "heading_collapsed": true
   },
   "source": [
    "### Convert to DF"
   ]
  },
  {
   "cell_type": "code",
   "execution_count": 110,
   "id": "5f88dc77",
   "metadata": {
    "hidden": true
   },
   "outputs": [
    {
     "name": "stdout",
     "output_type": "stream",
     "text": [
      "Working on: nfttx\n"
     ]
    },
    {
     "name": "stderr",
     "output_type": "stream",
     "text": [
      "100%|██████████████████████████████████████| 7255/7255 [00:15<00:00, 473.07it/s]\n"
     ]
    },
    {
     "name": "stdout",
     "output_type": "stream",
     "text": [
      "Working on: txlistinternal\n"
     ]
    },
    {
     "name": "stderr",
     "output_type": "stream",
     "text": [
      "100%|██████████████████████████████████████| 5489/5489 [00:07<00:00, 687.91it/s]\n"
     ]
    },
    {
     "name": "stdout",
     "output_type": "stream",
     "text": [
      "Working on: txlist\n"
     ]
    },
    {
     "name": "stderr",
     "output_type": "stream",
     "text": [
      "100%|██████████████████████████████████████| 7009/7009 [00:18<00:00, 377.55it/s]\n"
     ]
    }
   ],
   "source": [
    "final_nfttx_df, unsuccesful_final_nfttx_df         = convert_to_df(final_nfttx_dict,\"nfttx\")\n",
    "final_internal_df, unsuccessful_final_internal_df  = convert_to_df(final_internal_dict,\"txlistinternal\")\n",
    "final_norm_df, unsuccessful_final_norm_df          = convert_to_df(final_norm_dict,\"txlist\")"
   ]
  },
  {
   "cell_type": "code",
   "execution_count": 118,
   "id": "0a8080a7",
   "metadata": {
    "hidden": true
   },
   "outputs": [],
   "source": [
    "final_nfttx_df.to_csv(\"./DATA/bigdata/final_nfttx_df.csv\")\n",
    "final_internal_df.to_csv(\"./DATA/bigdata/final_internal_df.csv\")\n",
    "final_norm_df.to_csv(\"./DATA/bigdata/final_norm_df.csv\")"
   ]
  },
  {
   "cell_type": "markdown",
   "id": "aaeb3e67",
   "metadata": {
    "heading_collapsed": true
   },
   "source": [
    "### Left Join to create One Dataset\n",
    "This will exclude oneway hanging branch nodes"
   ]
  },
  {
   "cell_type": "code",
   "execution_count": 120,
   "id": "c1c5b6b3",
   "metadata": {
    "hidden": true
   },
   "outputs": [],
   "source": [
    "nfttx_internal_df=pd.merge(final_norm_df,final_nfttx_df, on=\"hash\", how=\"left\")"
   ]
  },
  {
   "cell_type": "code",
   "execution_count": 121,
   "id": "73112bf0",
   "metadata": {
    "hidden": true
   },
   "outputs": [],
   "source": [
    "final_three_combined_df=pd.merge(nfttx_internal_df,final_internal_df, on=\"hash\", how=\"left\")"
   ]
  },
  {
   "cell_type": "code",
   "execution_count": 127,
   "id": "8933c291",
   "metadata": {
    "hidden": true
   },
   "outputs": [],
   "source": [
    "final_three_combined_df.to_csv(\"./DATA/bigdata/final_three_combined_df.csv\")"
   ]
  }
 ],
 "metadata": {
  "kernelspec": {
   "display_name": "Python 3 (ipykernel)",
   "language": "python",
   "name": "python3"
  },
  "language_info": {
   "codemirror_mode": {
    "name": "ipython",
    "version": 3
   },
   "file_extension": ".py",
   "mimetype": "text/x-python",
   "name": "python",
   "nbconvert_exporter": "python",
   "pygments_lexer": "ipython3",
   "version": "3.9.7"
  }
 },
 "nbformat": 4,
 "nbformat_minor": 5
}
